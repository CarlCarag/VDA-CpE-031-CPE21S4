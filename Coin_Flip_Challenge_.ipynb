{
  "nbformat": 4,
  "nbformat_minor": 0,
  "metadata": {
    "colab": {
      "provenance": [],
      "authorship_tag": "ABX9TyNZMACb8SYyx+aQ3vAqvclg",
      "include_colab_link": true
    },
    "kernelspec": {
      "name": "python3",
      "display_name": "Python 3"
    },
    "language_info": {
      "name": "python"
    }
  },
  "cells": [
    {
      "cell_type": "markdown",
      "metadata": {
        "id": "view-in-github",
        "colab_type": "text"
      },
      "source": [
        "<a href=\"https://colab.research.google.com/github/CarlCarag/VDA-CpE-031-CPE21S4/blob/main/Coin_Flip_Challenge_.ipynb\" target=\"_parent\"><img src=\"https://colab.research.google.com/assets/colab-badge.svg\" alt=\"Open In Colab\"/></a>"
      ]
    },
    {
      "cell_type": "code",
      "execution_count": 1,
      "metadata": {
        "colab": {
          "base_uri": "https://localhost:8080/"
        },
        "id": "x-0u1lBGrQy5",
        "outputId": "c4b0906c-f34a-4497-96df-6ffec14d7390"
      },
      "outputs": [
        {
          "output_type": "stream",
          "name": "stdout",
          "text": [
            "Welcome to the Coded Coin Flip Challenge \n",
            "Input the number of flips: 5\n",
            "Tails\n",
            "Tails\n",
            "Tails\n",
            "Heads\n",
            "Tails\n",
            "[0, 'Tails', 1, 'Tails', 0, 'Tails', 0, 'Heads', 1, 'Tails']\n"
          ]
        }
      ],
      "source": [
        "import numpy as np\n",
        "def coin_flip(n):\n",
        "\n",
        "#Main Body of Code - Responsible for creating the function that operates the\n",
        "# whole code\n",
        "    numberofflips = []\n",
        "    while n > 0:\n",
        "        draws = np.random.randint(0,2)\n",
        "        numberofflips.append(draws)\n",
        "        n-=1\n",
        "        if (n==1):\n",
        "            print(\"Heads\")\n",
        "            numberofflips.append(\"Heads\")\n",
        "        else:\n",
        "            print(\"Tails\")\n",
        "            numberofflips.append(\"Tails\")\n",
        "    return numberofflips\n",
        "\n",
        "#Introduction Part - Takes the input from the user.\n",
        "print(\"Welcome to the Coded Coin Flip Challenge \")\n",
        "machine=int(input(\"Input the number of flips: \"))\n",
        "print(coin_flip(machine))"
      ]
    }
  ]
}