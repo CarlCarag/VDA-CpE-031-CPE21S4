{
  "nbformat": 4,
  "nbformat_minor": 0,
  "metadata": {
    "colab": {
      "provenance": [],
      "authorship_tag": "ABX9TyPWtB1FFyLKJTdJs3HNaa8Z",
      "include_colab_link": true
    },
    "kernelspec": {
      "name": "python3",
      "display_name": "Python 3"
    },
    "language_info": {
      "name": "python"
    }
  },
  "cells": [
    {
      "cell_type": "markdown",
      "metadata": {
        "id": "view-in-github",
        "colab_type": "text"
      },
      "source": [
        "<a href=\"https://colab.research.google.com/github/CarlCarag/VDA-CpE-031-CPE21S4/blob/main/Exercise2_example_5.ipynb\" target=\"_parent\"><img src=\"https://colab.research.google.com/assets/colab-badge.svg\" alt=\"Open In Colab\"/></a>"
      ]
    },
    {
      "cell_type": "code",
      "execution_count": 7,
      "metadata": {
        "colab": {
          "base_uri": "https://localhost:8080/"
        },
        "id": "uWnOSuBkKnad",
        "outputId": "f57341c1-551b-4c46-b2aa-8ac4f0b1c1df"
      },
      "outputs": [
        {
          "output_type": "stream",
          "name": "stdout",
          "text": [
            "   0  1   2\n",
            "2  2  6  10\n"
          ]
        }
      ],
      "source": [
        "import pandas as pd\n",
        "s1 = pd.Series([0,4,8])\n",
        "s2 = pd.Series([1,5,9])\n",
        "s3 = pd.Series([2,6,10])\n",
        "s4 = pd.Series([5,10,15])\n",
        "\n",
        "#creating multi-dimensional table\n",
        "dframe = pd.DataFrame([s1,s2,s3,s4],index =[0,1,2,3], columns =[0,1,2])\n",
        "dframe = pd.DataFrame.drop(dframe, [0,1,3])\n",
        "print(dframe)\n"
      ]
    }
  ]
}