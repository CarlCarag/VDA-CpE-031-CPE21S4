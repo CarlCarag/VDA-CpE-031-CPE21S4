{
  "nbformat": 4,
  "nbformat_minor": 0,
  "metadata": {
    "colab": {
      "provenance": [],
      "authorship_tag": "ABX9TyPrPedZbtVoueunkmjaRLNO",
      "include_colab_link": true
    },
    "kernelspec": {
      "name": "python3",
      "display_name": "Python 3"
    },
    "language_info": {
      "name": "python"
    }
  },
  "cells": [
    {
      "cell_type": "markdown",
      "metadata": {
        "id": "view-in-github",
        "colab_type": "text"
      },
      "source": [
        "<a href=\"https://colab.research.google.com/github/CarlCarag/VDA-CpE-031-CPE21S4/blob/main/Coin_flip1.ipynb\" target=\"_parent\"><img src=\"https://colab.research.google.com/assets/colab-badge.svg\" alt=\"Open In Colab\"/></a>"
      ]
    },
    {
      "cell_type": "code",
      "execution_count": null,
      "metadata": {
        "id": "Engm4Vqjjwh4"
      },
      "outputs": [],
      "source": [
        "import numpy as np\n",
        "def coin_flip(n):\n",
        "    FlipList=[]\n",
        "\n",
        "    while ne > 0:\n",
        "        num=np.random.randint(0,5)\n",
        "        num -= 1\n",
        "        if (num == 1 or 3 or 4):\n",
        "            print(\"Heads\")\n",
        "            FlipList.append(\"Heads\")\n",
        "            return FlipList\n",
        "        else:\n",
        "            print(\"Tails\")\n",
        "            FlipList.append(\"Tails\")\n",
        "            return FlipList\n",
        "\n",
        "ne=int(input(\"Place the number of coinflips: \"))\n",
        "print(coin_flip(ne))"
      ]
    }
  ]
}